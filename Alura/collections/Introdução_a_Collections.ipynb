{
  "nbformat": 4,
  "nbformat_minor": 0,
  "metadata": {
    "colab": {
      "name": "Introdução a Collections.ipynb",
      "provenance": []
    },
    "kernelspec": {
      "name": "python3",
      "display_name": "Python 3"
    },
    "language_info": {
      "name": "python"
    }
  },
  "cells": [
    {
      "cell_type": "code",
      "metadata": {
        "id": "QlUMxoyxX9WW"
      },
      "source": [
        "idade1 = 39\n",
        "idade2 = 30\n",
        "idade3 = 27"
      ],
      "execution_count": null,
      "outputs": []
    },
    {
      "cell_type": "code",
      "metadata": {
        "id": "fHJkd3ewYGZc"
      },
      "source": [
        "idade = [39,30,27,18]"
      ],
      "execution_count": null,
      "outputs": []
    },
    {
      "cell_type": "code",
      "metadata": {
        "colab": {
          "base_uri": "https://localhost:8080/"
        },
        "id": "S5q8mOwkaNDZ",
        "outputId": "2b25c99f-38d2-449f-91dd-017db9433e5f"
      },
      "source": [
        "type(idade)\n",
        "len(idade)"
      ],
      "execution_count": null,
      "outputs": [
        {
          "output_type": "execute_result",
          "data": {
            "text/plain": [
              "4"
            ]
          },
          "metadata": {
            "tags": []
          },
          "execution_count": 16
        }
      ]
    },
    {
      "cell_type": "code",
      "metadata": {
        "colab": {
          "base_uri": "https://localhost:8080/"
        },
        "id": "qWgI2cLNaQec",
        "outputId": "18585351-1075-42df-b6df-bab31de961dd"
      },
      "source": [
        "idade[0]"
      ],
      "execution_count": null,
      "outputs": [
        {
          "output_type": "execute_result",
          "data": {
            "text/plain": [
              "39"
            ]
          },
          "metadata": {
            "tags": []
          },
          "execution_count": 17
        }
      ]
    },
    {
      "cell_type": "code",
      "metadata": {
        "colab": {
          "base_uri": "https://localhost:8080/"
        },
        "id": "m3CyYgnEaXiA",
        "outputId": "da130dc1-a940-479a-9c16-838c873e8e7b"
      },
      "source": [
        "idade"
      ],
      "execution_count": null,
      "outputs": [
        {
          "output_type": "execute_result",
          "data": {
            "text/plain": [
              "[39, 30, 27, 18]"
            ]
          },
          "metadata": {
            "tags": []
          },
          "execution_count": 18
        }
      ]
    },
    {
      "cell_type": "code",
      "metadata": {
        "colab": {
          "base_uri": "https://localhost:8080/"
        },
        "id": "8F7EbNj_aYZT",
        "outputId": "a40c024a-6a8e-4ca3-fa5f-2267445ccdf1"
      },
      "source": [
        "print(idade[1])\n",
        "print(idade[2])"
      ],
      "execution_count": null,
      "outputs": [
        {
          "output_type": "stream",
          "text": [
            "30\n",
            "27\n"
          ],
          "name": "stdout"
        }
      ]
    },
    {
      "cell_type": "code",
      "metadata": {
        "id": "aSOz4-y7aZqD",
        "colab": {
          "base_uri": "https://localhost:8080/"
        },
        "outputId": "fee96730-3468-4e5d-8edc-634c78415bd8"
      },
      "source": [
        "idade.append(15)\n",
        "idade"
      ],
      "execution_count": null,
      "outputs": [
        {
          "output_type": "execute_result",
          "data": {
            "text/plain": [
              "[39, 30, 27, 18, 15]"
            ]
          },
          "metadata": {
            "tags": []
          },
          "execution_count": 20
        }
      ]
    },
    {
      "cell_type": "code",
      "metadata": {
        "colab": {
          "base_uri": "https://localhost:8080/"
        },
        "id": "MGHPUrCMan7k",
        "outputId": "ee98a46e-2873-4266-8003-39f29273ffaf"
      },
      "source": [
        "for i in idade:\n",
        "  print(i)"
      ],
      "execution_count": null,
      "outputs": [
        {
          "output_type": "stream",
          "text": [
            "39\n",
            "30\n",
            "27\n",
            "18\n",
            "15\n"
          ],
          "name": "stdout"
        }
      ]
    },
    {
      "cell_type": "code",
      "metadata": {
        "id": "dfVELl-Na65l",
        "colab": {
          "base_uri": "https://localhost:8080/"
        },
        "outputId": "150c3166-56a0-4b9b-ab15-fd1a95dceb50"
      },
      "source": [
        "idade.remove(30)\n",
        "idade.append(27)\n",
        "idade"
      ],
      "execution_count": null,
      "outputs": [
        {
          "output_type": "execute_result",
          "data": {
            "text/plain": [
              "[39, 27, 18, 15, 27]"
            ]
          },
          "metadata": {
            "tags": []
          },
          "execution_count": 22
        }
      ]
    },
    {
      "cell_type": "code",
      "metadata": {
        "id": "oZKLdavIbWPw",
        "colab": {
          "base_uri": "https://localhost:8080/"
        },
        "outputId": "6df8deaf-1820-4286-8dd8-e8c6e259245c"
      },
      "source": [
        "idade.remove(27)\n",
        "idade"
      ],
      "execution_count": null,
      "outputs": [
        {
          "output_type": "execute_result",
          "data": {
            "text/plain": [
              "[39, 18, 15, 27]"
            ]
          },
          "metadata": {
            "tags": []
          },
          "execution_count": 23
        }
      ]
    },
    {
      "cell_type": "code",
      "metadata": {
        "id": "x3XNMTeBd14k",
        "colab": {
          "base_uri": "https://localhost:8080/"
        },
        "outputId": "8cf50958-c51a-4578-c8a6-caf77b3578ee"
      },
      "source": [
        "idade.insert(0,20)\n",
        "idade"
      ],
      "execution_count": null,
      "outputs": [
        {
          "output_type": "execute_result",
          "data": {
            "text/plain": [
              "[20, 39, 18, 15, 27]"
            ]
          },
          "metadata": {
            "tags": []
          },
          "execution_count": 24
        }
      ]
    },
    {
      "cell_type": "code",
      "metadata": {
        "id": "39sVmRYLd8o7",
        "colab": {
          "base_uri": "https://localhost:8080/"
        },
        "outputId": "8d3ceb98-76d4-4af6-8723-747ebe967925"
      },
      "source": [
        "idade.append([40,22])\n",
        "idade"
      ],
      "execution_count": null,
      "outputs": [
        {
          "output_type": "execute_result",
          "data": {
            "text/plain": [
              "[20, 39, 18, 15, 27, [40, 22]]"
            ]
          },
          "metadata": {
            "tags": []
          },
          "execution_count": 12
        }
      ]
    },
    {
      "cell_type": "code",
      "metadata": {
        "id": "-BBnD1CreeIS",
        "colab": {
          "base_uri": "https://localhost:8080/"
        },
        "outputId": "3836dbe6-a63c-4a64-a3a2-3d8cd11a1019"
      },
      "source": [
        "idade.extend([40,22])\n",
        "idade"
      ],
      "execution_count": null,
      "outputs": [
        {
          "output_type": "execute_result",
          "data": {
            "text/plain": [
              "[20, 39, 18, 15, 27, 40, 22]"
            ]
          },
          "metadata": {
            "tags": []
          },
          "execution_count": 25
        }
      ]
    },
    {
      "cell_type": "code",
      "metadata": {
        "colab": {
          "base_uri": "https://localhost:8080/"
        },
        "id": "YvN_672BfCZn",
        "outputId": "7c49f8cc-8e0c-47e1-8989-fbf376d91cf9"
      },
      "source": [
        "idade_ano_que_vem = []\n",
        "for i in idade:\n",
        "  idade_ano_que_vem.append(i+1)\n",
        "\n",
        "idade_ano_que_vem"
      ],
      "execution_count": null,
      "outputs": [
        {
          "output_type": "execute_result",
          "data": {
            "text/plain": [
              "[21, 40, 19, 16, 28, 41, 23]"
            ]
          },
          "metadata": {
            "tags": []
          },
          "execution_count": 26
        }
      ]
    },
    {
      "cell_type": "code",
      "metadata": {
        "colab": {
          "base_uri": "https://localhost:8080/"
        },
        "id": "6xCIBLk5gVtS",
        "outputId": "00a74415-45f2-4a25-b36a-c52945974437"
      },
      "source": [
        "idade_ano_que_vem = [(i + 1) for i in idade]\n",
        "idade_ano_que_vem"
      ],
      "execution_count": null,
      "outputs": [
        {
          "output_type": "execute_result",
          "data": {
            "text/plain": [
              "[21, 40, 19, 16, 28, 41, 23]"
            ]
          },
          "metadata": {
            "tags": []
          },
          "execution_count": 28
        }
      ]
    },
    {
      "cell_type": "code",
      "metadata": {
        "colab": {
          "base_uri": "https://localhost:8080/"
        },
        "id": "R6WkqpoxgbAA",
        "outputId": "1d5214f3-1a75-4a88-bbeb-3720c575c25c"
      },
      "source": [
        "[(i + 1) for i in idade if i > 21]"
      ],
      "execution_count": null,
      "outputs": [
        {
          "output_type": "execute_result",
          "data": {
            "text/plain": [
              "[40, 28, 41, 23]"
            ]
          },
          "metadata": {
            "tags": []
          },
          "execution_count": 30
        }
      ]
    },
    {
      "cell_type": "code",
      "metadata": {
        "id": "0VU2--wOglun"
      },
      "source": [
        "def faz_processo_visualiz(lista):\n",
        "  print(len(lista))\n",
        "  lista.append(13)"
      ],
      "execution_count": null,
      "outputs": []
    },
    {
      "cell_type": "code",
      "metadata": {
        "colab": {
          "base_uri": "https://localhost:8080/"
        },
        "id": "vxkAjOQUKltF",
        "outputId": "f49ada0e-dfe0-47e0-ccda-ef35493b0ff9"
      },
      "source": [
        "idades = [16, 21, 29, 56, 43]\n",
        "faz_processo_visualiz(idades)\n",
        "idades"
      ],
      "execution_count": null,
      "outputs": [
        {
          "output_type": "stream",
          "text": [
            "5\n"
          ],
          "name": "stdout"
        },
        {
          "output_type": "execute_result",
          "data": {
            "text/plain": [
              "[16, 21, 29, 56, 43, 13]"
            ]
          },
          "metadata": {
            "tags": []
          },
          "execution_count": 37
        }
      ]
    },
    {
      "cell_type": "code",
      "metadata": {
        "id": "x34QTzbZKomS"
      },
      "source": [
        "def faz_processo_visualiz(lista = []):\n",
        "  print(len(lista))\n",
        "  print(lista)\n",
        "  lista.append(13)"
      ],
      "execution_count": null,
      "outputs": []
    },
    {
      "cell_type": "code",
      "metadata": {
        "colab": {
          "base_uri": "https://localhost:8080/"
        },
        "id": "vbylGSFnRWTJ",
        "outputId": "17274aee-3ad1-4892-d264-6c1a8173471a"
      },
      "source": [
        "faz_processo_visualiz()"
      ],
      "execution_count": null,
      "outputs": [
        {
          "output_type": "stream",
          "text": [
            "1\n"
          ],
          "name": "stdout"
        }
      ]
    },
    {
      "cell_type": "code",
      "metadata": {
        "id": "_oyImJB1RXEw"
      },
      "source": [
        "def faz_processo_visualiz(lista = None):\n",
        "  if lista == None:\n",
        "    lista = list()\n",
        "  print(len(lista))\n",
        "  print(lista)\n",
        "  lista.append(13)"
      ],
      "execution_count": null,
      "outputs": []
    },
    {
      "cell_type": "code",
      "metadata": {
        "colab": {
          "base_uri": "https://localhost:8080/"
        },
        "id": "htCnmmTfSZxF",
        "outputId": "fe0bdb66-6a22-48dd-a63d-0aa55104df0b"
      },
      "source": [
        "faz_processo_visualiz()"
      ],
      "execution_count": null,
      "outputs": [
        {
          "output_type": "stream",
          "text": [
            "0\n",
            "[]\n"
          ],
          "name": "stdout"
        }
      ]
    },
    {
      "cell_type": "markdown",
      "metadata": {
        "id": "YO2N3mZ7Scq-"
      },
      "source": [
        "# Objetos Próprios"
      ]
    },
    {
      "cell_type": "code",
      "metadata": {
        "id": "rvV_XR_VSbFX"
      },
      "source": [
        "class contaCorrente:\n",
        "\n",
        "  def __init__(self, codigo):\n",
        "    self.codigo = codigo\n",
        "    self.saldo = 0\n",
        "  \n",
        "  def deposita(self, valor):\n",
        "    self.saldo += valor\n",
        "  \n",
        "  def __str__(self):\n",
        "    return \"[codigo {} Saldo {}]\".format(self.codigo, self.saldo)"
      ],
      "execution_count": null,
      "outputs": []
    },
    {
      "cell_type": "code",
      "metadata": {
        "colab": {
          "base_uri": "https://localhost:8080/"
        },
        "id": "ajrgauMZS5wh",
        "outputId": "dd3838fc-e862-44ba-d787-154e21a17d9e"
      },
      "source": [
        "conta_do_gui = contaCorrente(15)\n",
        "print(conta_do_gui)"
      ],
      "execution_count": null,
      "outputs": [
        {
          "output_type": "stream",
          "text": [
            "[codigo 15 Saldo 0]\n"
          ],
          "name": "stdout"
        }
      ]
    },
    {
      "cell_type": "code",
      "metadata": {
        "colab": {
          "base_uri": "https://localhost:8080/"
        },
        "id": "nmIiBR-dS-XS",
        "outputId": "cae2e3a2-99ba-4658-b12a-a27bdbcc7260"
      },
      "source": [
        "conta_da_dani = contaCorrente(47685)\n",
        "conta_da_dani.deposita(5000)\n",
        "print(conta_da_dani)"
      ],
      "execution_count": null,
      "outputs": [
        {
          "output_type": "stream",
          "text": [
            "[codigo 47685 Saldo 5000]\n"
          ],
          "name": "stdout"
        }
      ]
    },
    {
      "cell_type": "code",
      "metadata": {
        "colab": {
          "base_uri": "https://localhost:8080/"
        },
        "id": "zrXNFeVITScz",
        "outputId": "9052bcd1-f452-417a-ccbc-822d8b05e99f"
      },
      "source": [
        "contas = [conta_da_dani, conta_do_gui]\n",
        "print(contas)"
      ],
      "execution_count": null,
      "outputs": [
        {
          "output_type": "stream",
          "text": [
            "[<__main__.contaCorrente object at 0x7f3c6366bb10>, <__main__.contaCorrente object at 0x7f3c6362da90>]\n"
          ],
          "name": "stdout"
        }
      ]
    },
    {
      "cell_type": "code",
      "metadata": {
        "colab": {
          "base_uri": "https://localhost:8080/"
        },
        "id": "d_ExG-eDTVyb",
        "outputId": "61400f9c-89b9-434a-fc56-3e0354cbaaa0"
      },
      "source": [
        "for conta in contas:\n",
        "  print(conta)"
      ],
      "execution_count": null,
      "outputs": [
        {
          "output_type": "stream",
          "text": [
            "[codigo 47685 Saldo 5000]\n",
            "[codigo 15 Saldo 0]\n"
          ],
          "name": "stdout"
        }
      ]
    },
    {
      "cell_type": "code",
      "metadata": {
        "id": "OUKv9ZMKU9hZ"
      },
      "source": [
        "conta_do_gui.deposita(100)"
      ],
      "execution_count": null,
      "outputs": []
    },
    {
      "cell_type": "code",
      "metadata": {
        "colab": {
          "base_uri": "https://localhost:8080/"
        },
        "id": "P5cUEa_yVAL9",
        "outputId": "1f2760ea-11a2-40f4-a40b-a7ef9410af31"
      },
      "source": [
        "print(contas[1])"
      ],
      "execution_count": null,
      "outputs": [
        {
          "output_type": "stream",
          "text": [
            "[codigo 15 Saldo 100]\n"
          ],
          "name": "stdout"
        }
      ]
    },
    {
      "cell_type": "code",
      "metadata": {
        "colab": {
          "base_uri": "https://localhost:8080/"
        },
        "id": "3f9xk-dMVCJX",
        "outputId": "44dab2dd-d59a-43d5-ea45-85de25bf3936"
      },
      "source": [
        "contas[1].deposita(300)\n",
        "print(contas[1])"
      ],
      "execution_count": null,
      "outputs": [
        {
          "output_type": "stream",
          "text": [
            "[codigo 15 Saldo 400]\n"
          ],
          "name": "stdout"
        }
      ]
    },
    {
      "cell_type": "code",
      "metadata": {
        "colab": {
          "base_uri": "https://localhost:8080/"
        },
        "id": "EQUUM9NYVk4o",
        "outputId": "329405d8-3871-454f-f44d-14fc714d957c"
      },
      "source": [
        "def deposita_para_todas(contas):\n",
        "  for conta in contas:\n",
        "    conta.deposita(100)\n",
        "\n",
        "contas = [conta_do_gui, conta_da_dani]\n",
        "print(contas[0], contas[1])\n",
        "deposita_para_todas(contas)\n",
        "print(contas[0], contas[1])"
      ],
      "execution_count": null,
      "outputs": [
        {
          "output_type": "stream",
          "text": [
            "[codigo 15 Saldo 400] [codigo 47685 Saldo 5000]\n",
            "[codigo 15 Saldo 500] [codigo 47685 Saldo 5100]\n"
          ],
          "name": "stdout"
        }
      ]
    },
    {
      "cell_type": "code",
      "metadata": {
        "colab": {
          "base_uri": "https://localhost:8080/"
        },
        "id": "-3pQbcaRWVGp",
        "outputId": "d8eac05a-32d3-4767-9fb2-24d68c74261b"
      },
      "source": [
        "contas.insert(0,76)\n",
        "print(contas[0],contas[1],contas[2])"
      ],
      "execution_count": null,
      "outputs": [
        {
          "output_type": "stream",
          "text": [
            "76 [codigo 15 Saldo 500] [codigo 47685 Saldo 5100]\n"
          ],
          "name": "stdout"
        }
      ]
    },
    {
      "cell_type": "code",
      "metadata": {
        "id": "nsD3o0eYXBvI"
      },
      "source": [
        "guilherme = ('Guilherme', 37) #tupla\n",
        "daniela = ('Daniela', 31)\n",
        "#paulo = (25, 'Paulo') #ruim"
      ],
      "execution_count": null,
      "outputs": []
    },
    {
      "cell_type": "code",
      "metadata": {
        "id": "Wtkl6AldYGHP"
      },
      "source": [
        "conta_do_gui = (15, 100)\n",
        "\n",
        "def deposita(conta):\n",
        "  novo_saldo = conta[1] + 100\n",
        "  codigo = conta[0]\n",
        "  return (codigo, novo_saldo)"
      ],
      "execution_count": null,
      "outputs": []
    },
    {
      "cell_type": "code",
      "metadata": {
        "colab": {
          "base_uri": "https://localhost:8080/"
        },
        "id": "K7RV8m_eFLd7",
        "outputId": "b27cae42-3a0c-4917-e9e3-f8a5e7d02217"
      },
      "source": [
        "conta_do_gui = deposita(conta_do_gui)\n",
        "conta_do_gui"
      ],
      "execution_count": null,
      "outputs": [
        {
          "output_type": "execute_result",
          "data": {
            "text/plain": [
              "(15, 400)"
            ]
          },
          "metadata": {
            "tags": []
          },
          "execution_count": 29
        }
      ]
    },
    {
      "cell_type": "code",
      "metadata": {
        "colab": {
          "base_uri": "https://localhost:8080/"
        },
        "id": "AEO_F5MYFSYv",
        "outputId": "e3e9a94a-81a9-4940-dd61-d1384290a74f"
      },
      "source": [
        "usuarios = [guilherme, daniela]\n",
        "usuarios"
      ],
      "execution_count": null,
      "outputs": [
        {
          "output_type": "execute_result",
          "data": {
            "text/plain": [
              "[('Guilherme', 37), ('Daniela', 31)]"
            ]
          },
          "metadata": {
            "tags": []
          },
          "execution_count": 40
        }
      ]
    },
    {
      "cell_type": "code",
      "metadata": {
        "colab": {
          "base_uri": "https://localhost:8080/"
        },
        "id": "7N58FD78IfTk",
        "outputId": "034b7975-021a-4dd9-c8f5-5e1a2e0542d2"
      },
      "source": [
        "usuarios.append(('Paulo',31,1980))\n",
        "usuarios"
      ],
      "execution_count": null,
      "outputs": [
        {
          "output_type": "execute_result",
          "data": {
            "text/plain": [
              "[('Guilherme', 37), ('Daniela', 31), ('Paulo', 31, 1980)]"
            ]
          },
          "metadata": {
            "tags": []
          },
          "execution_count": 41
        }
      ]
    },
    {
      "cell_type": "code",
      "metadata": {
        "id": "xio5OuRYToAx"
      },
      "source": [
        "conta_do_gui = contaCorrente(15)\n",
        "conta_do_gui.deposita(1000)\n",
        "conta_da_dani = contaCorrente(100)\n",
        "conta_da_dani.deposita = (2000)\n",
        "\n",
        "contas = (conta_do_gui, conta_da_dani)"
      ],
      "execution_count": null,
      "outputs": []
    },
    {
      "cell_type": "code",
      "metadata": {
        "colab": {
          "base_uri": "https://localhost:8080/",
          "height": 163
        },
        "id": "FQ3cY54HUBY7",
        "outputId": "c9a87ab5-abe2-47a9-ab44-1e5fefa14dc5"
      },
      "source": [
        "contas.append(40000)"
      ],
      "execution_count": null,
      "outputs": [
        {
          "output_type": "error",
          "ename": "AttributeError",
          "evalue": "ignored",
          "traceback": [
            "\u001b[0;31m---------------------------------------------------------------------------\u001b[0m",
            "\u001b[0;31mAttributeError\u001b[0m                            Traceback (most recent call last)",
            "\u001b[0;32m<ipython-input-45-7a565fa1bc31>\u001b[0m in \u001b[0;36m<module>\u001b[0;34m()\u001b[0m\n\u001b[0;32m----> 1\u001b[0;31m \u001b[0mcontas\u001b[0m\u001b[0;34m.\u001b[0m\u001b[0mappend\u001b[0m\u001b[0;34m(\u001b[0m\u001b[0;36m40000\u001b[0m\u001b[0;34m)\u001b[0m\u001b[0;34m\u001b[0m\u001b[0;34m\u001b[0m\u001b[0m\n\u001b[0m",
            "\u001b[0;31mAttributeError\u001b[0m: 'tuple' object has no attribute 'append'"
          ]
        }
      ]
    },
    {
      "cell_type": "code",
      "metadata": {
        "colab": {
          "base_uri": "https://localhost:8080/"
        },
        "id": "VohgIL8UUnFK",
        "outputId": "4e7a6e6e-8d93-49d2-c89d-016dd030dbf0"
      },
      "source": [
        "contas[0].deposita(500)\n",
        "\n",
        "for conta in contas:\n",
        "  print(conta)"
      ],
      "execution_count": null,
      "outputs": [
        {
          "output_type": "stream",
          "text": [
            "[codigo 15 Saldo 2000]\n",
            "[codigo 100 Saldo 0]\n"
          ],
          "name": "stdout"
        }
      ]
    },
    {
      "cell_type": "markdown",
      "metadata": {
        "id": "YfdC4tz0cT5D"
      },
      "source": [
        "#Herança e Polimorfismo"
      ]
    },
    {
      "cell_type": "code",
      "metadata": {
        "id": "5bumYW1TUpUV"
      },
      "source": [
        "from abc import ABCMeta, abstractmethod\n",
        "\n",
        "class Conta(metaclass=ABCMeta):\n",
        "\n",
        "  def __init__(self, codigo):\n",
        "    self._codigo = codigo\n",
        "    self._saldo = 0\n",
        "  \n",
        "  def deposita(self, valor):\n",
        "    self._saldo += valor\n",
        "\n",
        "  @abstractmethod\n",
        "  def passa_o_mes(self):\n",
        "    pass\n",
        "  \n",
        "  def __str__(self):\n",
        "    return \"[codigo {} Saldo {}]\".format(self._codigo, self._saldo)"
      ],
      "execution_count": null,
      "outputs": []
    },
    {
      "cell_type": "code",
      "metadata": {
        "colab": {
          "base_uri": "https://localhost:8080/"
        },
        "id": "Od-OTbL4cmal",
        "outputId": "4183ba5d-8da0-4f51-8056-cd4f1cbf7f21"
      },
      "source": [
        "print(Conta(88))"
      ],
      "execution_count": null,
      "outputs": [
        {
          "output_type": "stream",
          "text": [
            "[codigo 88 Saldo 0]\n"
          ],
          "name": "stdout"
        }
      ]
    },
    {
      "cell_type": "code",
      "metadata": {
        "id": "aVbqti38cnwB"
      },
      "source": [
        "class contaCorrente(Conta):\n",
        "\n",
        "  def passa_o_mes(self):\n",
        "    self._saldo -= 2\n",
        "  \n",
        "class contaPoupanca(Conta):\n",
        "\n",
        "  def passa_o_mes(self):\n",
        "    self._saldo *= 1.01\n",
        "    self._saldo -= 3\n",
        "\n",
        "class contaInvestimento(Conta):\n",
        "  pass"
      ],
      "execution_count": null,
      "outputs": []
    },
    {
      "cell_type": "code",
      "metadata": {
        "colab": {
          "base_uri": "https://localhost:8080/"
        },
        "id": "YgJzDqPlc9mg",
        "outputId": "cd4ee7ca-88b0-4317-8a49-004d32731144"
      },
      "source": [
        "conta16 = contaCorrente(16)\n",
        "conta16.deposita(1000)\n",
        "conta16.passa_o_mes()\n",
        "print(conta16)"
      ],
      "execution_count": null,
      "outputs": [
        {
          "output_type": "stream",
          "text": [
            "[codigo 16 Saldo 998]\n"
          ],
          "name": "stdout"
        }
      ]
    },
    {
      "cell_type": "code",
      "metadata": {
        "colab": {
          "base_uri": "https://localhost:8080/",
          "height": 163
        },
        "id": "EToJrlTmi3E1",
        "outputId": "32e741a3-2703-40a3-cd1a-0ad571580aad"
      },
      "source": [
        "contaInvestimento(764)"
      ],
      "execution_count": null,
      "outputs": [
        {
          "output_type": "error",
          "ename": "TypeError",
          "evalue": "ignored",
          "traceback": [
            "\u001b[0;31m---------------------------------------------------------------------------\u001b[0m",
            "\u001b[0;31mTypeError\u001b[0m                                 Traceback (most recent call last)",
            "\u001b[0;32m<ipython-input-91-279570cb42ae>\u001b[0m in \u001b[0;36m<module>\u001b[0;34m()\u001b[0m\n\u001b[0;32m----> 1\u001b[0;31m \u001b[0mcontaInvestimento\u001b[0m\u001b[0;34m(\u001b[0m\u001b[0;36m764\u001b[0m\u001b[0;34m)\u001b[0m\u001b[0;34m\u001b[0m\u001b[0;34m\u001b[0m\u001b[0m\n\u001b[0m",
            "\u001b[0;31mTypeError\u001b[0m: Can't instantiate abstract class contaInvestimento with abstract methods passa_o_mes"
          ]
        }
      ]
    },
    {
      "cell_type": "code",
      "metadata": {
        "colab": {
          "base_uri": "https://localhost:8080/"
        },
        "id": "ikc_KwjXf4i9",
        "outputId": "3ccede4d-9323-48db-9a9a-03af6a9e8eca"
      },
      "source": [
        "conta17 = contaPoupanca(17)\n",
        "conta17.deposita(1000)\n",
        "conta17.passa_o_mes()\n",
        "print(conta17)"
      ],
      "execution_count": null,
      "outputs": [
        {
          "output_type": "stream",
          "text": [
            "[codigo 17 Saldo 1007.0]\n"
          ],
          "name": "stdout"
        }
      ]
    },
    {
      "cell_type": "code",
      "metadata": {
        "colab": {
          "base_uri": "https://localhost:8080/",
          "height": 197
        },
        "id": "WLvnpwvmgAw-",
        "outputId": "aabd3658-d25f-4e12-f66b-e33e252c1bc6"
      },
      "source": [
        "contas = [conta16, conta17]\n",
        "\n",
        "for conta in contas:\n",
        "  conta.passo_o_mes()"
      ],
      "execution_count": null,
      "outputs": [
        {
          "output_type": "error",
          "ename": "AttributeError",
          "evalue": "ignored",
          "traceback": [
            "\u001b[0;31m---------------------------------------------------------------------------\u001b[0m",
            "\u001b[0;31mAttributeError\u001b[0m                            Traceback (most recent call last)",
            "\u001b[0;32m<ipython-input-75-9eaf1a41d37d>\u001b[0m in \u001b[0;36m<module>\u001b[0;34m()\u001b[0m\n\u001b[1;32m      2\u001b[0m \u001b[0;34m\u001b[0m\u001b[0m\n\u001b[1;32m      3\u001b[0m \u001b[0;32mfor\u001b[0m \u001b[0mconta\u001b[0m \u001b[0;32min\u001b[0m \u001b[0mcontas\u001b[0m\u001b[0;34m:\u001b[0m\u001b[0;34m\u001b[0m\u001b[0;34m\u001b[0m\u001b[0m\n\u001b[0;32m----> 4\u001b[0;31m   \u001b[0mconta\u001b[0m\u001b[0;34m.\u001b[0m\u001b[0mpasso_o_mes\u001b[0m\u001b[0;34m(\u001b[0m\u001b[0;34m)\u001b[0m\u001b[0;34m\u001b[0m\u001b[0;34m\u001b[0m\u001b[0m\n\u001b[0m",
            "\u001b[0;31mAttributeError\u001b[0m: 'contaCorrente' object has no attribute 'passo_o_mes'"
          ]
        }
      ]
    },
    {
      "cell_type": "markdown",
      "metadata": {
        "id": "IxpMZKeegh3C"
      },
      "source": [
        "#Evitar usar Array, usar Numpy"
      ]
    },
    {
      "cell_type": "code",
      "metadata": {
        "colab": {
          "base_uri": "https://localhost:8080/"
        },
        "id": "EhBoNA76gFmo",
        "outputId": "fcec13ef-113c-482b-9370-80a69abef657"
      },
      "source": [
        "import array as arr\n",
        "\n",
        "arr.array('d',[1, 3.5])"
      ],
      "execution_count": null,
      "outputs": [
        {
          "output_type": "execute_result",
          "data": {
            "text/plain": [
              "array('d', [1.0, 3.5])"
            ]
          },
          "metadata": {
            "tags": []
          },
          "execution_count": 77
        }
      ]
    },
    {
      "cell_type": "code",
      "metadata": {
        "colab": {
          "base_uri": "https://localhost:8080/",
          "height": 163
        },
        "id": "SuAki1tog7ba",
        "outputId": "e428e2bb-acd0-4e84-dabd-b0c6603437b1"
      },
      "source": [
        "arr.array('d',[1,3.5,'Guilherme'])"
      ],
      "execution_count": null,
      "outputs": [
        {
          "output_type": "error",
          "ename": "TypeError",
          "evalue": "ignored",
          "traceback": [
            "\u001b[0;31m---------------------------------------------------------------------------\u001b[0m",
            "\u001b[0;31mTypeError\u001b[0m                                 Traceback (most recent call last)",
            "\u001b[0;32m<ipython-input-78-a7a11e522960>\u001b[0m in \u001b[0;36m<module>\u001b[0;34m()\u001b[0m\n\u001b[0;32m----> 1\u001b[0;31m \u001b[0marr\u001b[0m\u001b[0;34m.\u001b[0m\u001b[0marray\u001b[0m\u001b[0;34m(\u001b[0m\u001b[0;34m'd'\u001b[0m\u001b[0;34m,\u001b[0m\u001b[0;34m[\u001b[0m\u001b[0;36m1\u001b[0m\u001b[0;34m,\u001b[0m\u001b[0;36m3.5\u001b[0m\u001b[0;34m,\u001b[0m\u001b[0;34m'Guilherme'\u001b[0m\u001b[0;34m]\u001b[0m\u001b[0;34m)\u001b[0m\u001b[0;34m\u001b[0m\u001b[0;34m\u001b[0m\u001b[0m\n\u001b[0m",
            "\u001b[0;31mTypeError\u001b[0m: must be real number, not str"
          ]
        }
      ]
    },
    {
      "cell_type": "code",
      "metadata": {
        "colab": {
          "base_uri": "https://localhost:8080/"
        },
        "id": "Jx9IZ4cxhCnj",
        "outputId": "e78ae966-f89e-46d6-865b-4bebfc09f4f2"
      },
      "source": [
        "!pip install numpy"
      ],
      "execution_count": null,
      "outputs": [
        {
          "output_type": "stream",
          "text": [
            "Requirement already satisfied: numpy in /usr/local/lib/python3.7/dist-packages (1.19.5)\n"
          ],
          "name": "stdout"
        }
      ]
    },
    {
      "cell_type": "code",
      "metadata": {
        "colab": {
          "base_uri": "https://localhost:8080/"
        },
        "id": "hMQZr_K_g-FW",
        "outputId": "9ea290aa-fb72-48f7-ee75-43a2a59b05d3"
      },
      "source": [
        "import numpy as np\n",
        "\n",
        "numeros = np.array([1, 2.5])\n",
        "numeros"
      ],
      "execution_count": null,
      "outputs": [
        {
          "output_type": "execute_result",
          "data": {
            "text/plain": [
              "array([1. , 2.5])"
            ]
          },
          "metadata": {
            "tags": []
          },
          "execution_count": 82
        }
      ]
    },
    {
      "cell_type": "code",
      "metadata": {
        "colab": {
          "base_uri": "https://localhost:8080/"
        },
        "id": "K5PkOG53hJJf",
        "outputId": "98227a2d-13ca-4302-c360-966c58df7154"
      },
      "source": [
        "numeros + 3"
      ],
      "execution_count": null,
      "outputs": [
        {
          "output_type": "execute_result",
          "data": {
            "text/plain": [
              "array([4. , 5.5])"
            ]
          },
          "metadata": {
            "tags": []
          },
          "execution_count": 84
        }
      ]
    },
    {
      "cell_type": "code",
      "metadata": {
        "id": "m449SWlxhOdv"
      },
      "source": [
        "class contaSalario:\n",
        "\n",
        "  def __init__(self, codigo):\n",
        "    self._codigo = codigo\n",
        "    self._saldo = 0\n",
        "  \n",
        "  def __eq__(self, outro):\n",
        "    if type(outro) != contaSalario:\n",
        "      return False\n",
        "\n",
        "    return self._codigo == outro._codigo and self._saldo == outro._saldo\n",
        "\n",
        "  def deposita(self, valor):\n",
        "    self._saldo += valor\n",
        "  \n",
        "  def __str__(self):\n",
        "    return \"[>> Codigo {} Saldo {}<<]\".format(self._codigo, self._saldo)\n",
        "\n",
        "  def __lt__(self, outro):\n",
        "    return self._saldo < outro._saldo\n",
        "  \n",
        "class contaMultiploSalario(contaSalario):\n",
        "  pass"
      ],
      "execution_count": 8,
      "outputs": []
    },
    {
      "cell_type": "code",
      "metadata": {
        "id": "HW3rmelLjoKK"
      },
      "source": [
        "conta1 = contaSalario(37)\n",
        "conta2 = contaCorrente(37)"
      ],
      "execution_count": null,
      "outputs": []
    },
    {
      "cell_type": "code",
      "metadata": {
        "colab": {
          "base_uri": "https://localhost:8080/"
        },
        "id": "7HKkr0o_jqHF",
        "outputId": "0a5ede50-747d-42ad-aa65-9e22ab159dbc"
      },
      "source": [
        "conta1 == conta2"
      ],
      "execution_count": null,
      "outputs": [
        {
          "output_type": "execute_result",
          "data": {
            "text/plain": [
              "False"
            ]
          },
          "metadata": {
            "tags": []
          },
          "execution_count": 131
        }
      ]
    },
    {
      "cell_type": "code",
      "metadata": {
        "colab": {
          "base_uri": "https://localhost:8080/"
        },
        "id": "3UOlAEJPkC9E",
        "outputId": "321836af-9342-4f46-ed0f-f51a677c1743"
      },
      "source": [
        "isinstance(contaCorrente(34), contaCorrente)"
      ],
      "execution_count": null,
      "outputs": [
        {
          "output_type": "execute_result",
          "data": {
            "text/plain": [
              "True"
            ]
          },
          "metadata": {
            "tags": []
          },
          "execution_count": 132
        }
      ]
    },
    {
      "cell_type": "code",
      "metadata": {
        "colab": {
          "base_uri": "https://localhost:8080/"
        },
        "id": "1gIW2mc6kDvP",
        "outputId": "6131e01f-822d-478c-9eab-9ab3f371be36"
      },
      "source": [
        "isinstance(contaCorrente(34), Conta)"
      ],
      "execution_count": null,
      "outputs": [
        {
          "output_type": "execute_result",
          "data": {
            "text/plain": [
              "True"
            ]
          },
          "metadata": {
            "tags": []
          },
          "execution_count": 133
        }
      ]
    },
    {
      "cell_type": "code",
      "metadata": {
        "colab": {
          "base_uri": "https://localhost:8080/"
        },
        "id": "jCpq4vgs5Vx8",
        "outputId": "f38d1570-40ed-4f26-e96a-c43a00d648d7"
      },
      "source": [
        "idades = [15, 87, 32, 65, 56, 32, 49, 37]\n",
        "\n",
        "for i in range(len(idades)):\n",
        "  print(i, idades[i])"
      ],
      "execution_count": null,
      "outputs": [
        {
          "output_type": "stream",
          "text": [
            "0 15\n",
            "1 87\n",
            "2 32\n",
            "3 65\n",
            "4 56\n",
            "5 32\n",
            "6 49\n",
            "7 37\n"
          ],
          "name": "stdout"
        }
      ]
    },
    {
      "cell_type": "code",
      "metadata": {
        "colab": {
          "base_uri": "https://localhost:8080/"
        },
        "id": "gTdJ-1uT5qXq",
        "outputId": "972d5db2-4819-436f-aacd-89dbadc54677"
      },
      "source": [
        "enumerate(idades) #lazy"
      ],
      "execution_count": null,
      "outputs": [
        {
          "output_type": "execute_result",
          "data": {
            "text/plain": [
              "<enumerate at 0x7f3c5ed0ce60>"
            ]
          },
          "metadata": {
            "tags": []
          },
          "execution_count": 139
        }
      ]
    },
    {
      "cell_type": "code",
      "metadata": {
        "colab": {
          "base_uri": "https://localhost:8080/"
        },
        "id": "vOXkVneP6Lwd",
        "outputId": "c0685b2b-4958-4f0a-ac37-871957c32a01"
      },
      "source": [
        "list(enumerate(idades))"
      ],
      "execution_count": null,
      "outputs": [
        {
          "output_type": "execute_result",
          "data": {
            "text/plain": [
              "[(0, 15), (1, 87), (2, 32), (3, 65), (4, 56), (5, 32), (6, 49), (7, 37)]"
            ]
          },
          "metadata": {
            "tags": []
          },
          "execution_count": 141
        }
      ]
    },
    {
      "cell_type": "code",
      "metadata": {
        "colab": {
          "base_uri": "https://localhost:8080/"
        },
        "id": "7T5QlP5v6tRm",
        "outputId": "8711e0a1-4858-4c0a-90bd-fc3338b32342"
      },
      "source": [
        "for indice, idade in enumerate(idades): #unpacking da tupla\n",
        "  print(indice, idade)"
      ],
      "execution_count": null,
      "outputs": [
        {
          "output_type": "stream",
          "text": [
            "0 15\n",
            "1 87\n",
            "2 32\n",
            "3 65\n",
            "4 56\n",
            "5 32\n",
            "6 49\n",
            "7 37\n"
          ],
          "name": "stdout"
        }
      ]
    },
    {
      "cell_type": "code",
      "metadata": {
        "colab": {
          "base_uri": "https://localhost:8080/"
        },
        "id": "nGlte61F6wAS",
        "outputId": "b17af6e2-cc0e-4cf8-d963-c559a31fba5c"
      },
      "source": [
        "usuarios = [\n",
        "            (\"Guilherme\", 37, 1981),\n",
        "            (\"Daniela\", 31, 1987),\n",
        "            (\"Paulo\", 39, 1979)\n",
        "]\n",
        "\n",
        "for nome, idade, nascimento in usuarios:\n",
        "  print(nome)"
      ],
      "execution_count": null,
      "outputs": [
        {
          "output_type": "stream",
          "text": [
            "Guilherme\n",
            "Daniela\n",
            "Paulo\n"
          ],
          "name": "stdout"
        }
      ]
    },
    {
      "cell_type": "code",
      "metadata": {
        "colab": {
          "base_uri": "https://localhost:8080/"
        },
        "id": "VsOo94a07Njl",
        "outputId": "879376fc-2abc-4542-d8ec-951811269a5f"
      },
      "source": [
        "for nome, _, _ in usuarios:\n",
        "  print(nome)"
      ],
      "execution_count": null,
      "outputs": [
        {
          "output_type": "stream",
          "text": [
            "Guilherme\n",
            "Daniela\n",
            "Paulo\n"
          ],
          "name": "stdout"
        }
      ]
    },
    {
      "cell_type": "code",
      "metadata": {
        "colab": {
          "base_uri": "https://localhost:8080/"
        },
        "id": "DUsvVJf97ZdD",
        "outputId": "6c74228f-78dc-453d-8d85-613f756cd748"
      },
      "source": [
        "sorted(idades)"
      ],
      "execution_count": null,
      "outputs": [
        {
          "output_type": "execute_result",
          "data": {
            "text/plain": [
              "[15, 32, 32, 37, 49, 56, 65, 87]"
            ]
          },
          "metadata": {
            "tags": []
          },
          "execution_count": 147
        }
      ]
    },
    {
      "cell_type": "code",
      "metadata": {
        "colab": {
          "base_uri": "https://localhost:8080/"
        },
        "id": "0xl0U4918Ml0",
        "outputId": "defdb9e3-621c-4a38-b504-934439a5c1b7"
      },
      "source": [
        "reversed(idades)"
      ],
      "execution_count": null,
      "outputs": [
        {
          "output_type": "execute_result",
          "data": {
            "text/plain": [
              "<list_reverseiterator at 0x7f3c5f53eed0>"
            ]
          },
          "metadata": {
            "tags": []
          },
          "execution_count": 148
        }
      ]
    },
    {
      "cell_type": "code",
      "metadata": {
        "colab": {
          "base_uri": "https://localhost:8080/"
        },
        "id": "Gb40UtrN8TxS",
        "outputId": "93ba3e6a-a4ef-4538-8742-2ae8203222eb"
      },
      "source": [
        "list(reversed(idades))"
      ],
      "execution_count": null,
      "outputs": [
        {
          "output_type": "execute_result",
          "data": {
            "text/plain": [
              "[37, 49, 32, 56, 65, 32, 87, 15]"
            ]
          },
          "metadata": {
            "tags": []
          },
          "execution_count": 149
        }
      ]
    },
    {
      "cell_type": "code",
      "metadata": {
        "colab": {
          "base_uri": "https://localhost:8080/"
        },
        "id": "7SAg-68y8XHp",
        "outputId": "af06041b-2fb5-47e1-85ee-d04a7a7721ce"
      },
      "source": [
        "sorted(idades, reverse= True)"
      ],
      "execution_count": null,
      "outputs": [
        {
          "output_type": "execute_result",
          "data": {
            "text/plain": [
              "[87, 65, 56, 49, 37, 32, 32, 15]"
            ]
          },
          "metadata": {
            "tags": []
          },
          "execution_count": 150
        }
      ]
    },
    {
      "cell_type": "code",
      "metadata": {
        "colab": {
          "base_uri": "https://localhost:8080/"
        },
        "id": "Tipf10it8iOX",
        "outputId": "e6811616-4466-4505-cf71-78b916cff4ce"
      },
      "source": [
        "idades.sort()\n",
        "idades"
      ],
      "execution_count": null,
      "outputs": [
        {
          "output_type": "execute_result",
          "data": {
            "text/plain": [
              "[15, 32, 32, 37, 49, 56, 65, 87]"
            ]
          },
          "metadata": {
            "tags": []
          },
          "execution_count": 152
        }
      ]
    },
    {
      "cell_type": "code",
      "metadata": {
        "colab": {
          "base_uri": "https://localhost:8080/"
        },
        "id": "EUvEye7Q8wq5",
        "outputId": "08df8678-e6a6-4855-f109-5cfbfb409058"
      },
      "source": [
        "nomes = [\"Guilherme\", \"Daniela\", \"Paulo\"]\n",
        "sorted(nomes)"
      ],
      "execution_count": null,
      "outputs": [
        {
          "output_type": "execute_result",
          "data": {
            "text/plain": [
              "['Daniela', 'Guilherme', 'Paulo']"
            ]
          },
          "metadata": {
            "tags": []
          },
          "execution_count": 153
        }
      ]
    },
    {
      "cell_type": "code",
      "metadata": {
        "colab": {
          "base_uri": "https://localhost:8080/"
        },
        "id": "m4ADdTiC-Lcm",
        "outputId": "f243c412-a441-4eb8-d4c8-69f45fd3ce39"
      },
      "source": [
        "nomes = [\"guilherme\", \"Daniela\", \"Paulo\"]\n",
        "sorted(nomes)"
      ],
      "execution_count": null,
      "outputs": [
        {
          "output_type": "execute_result",
          "data": {
            "text/plain": [
              "['Daniela', 'Paulo', 'guilherme']"
            ]
          },
          "metadata": {
            "tags": []
          },
          "execution_count": 154
        }
      ]
    },
    {
      "cell_type": "code",
      "metadata": {
        "colab": {
          "base_uri": "https://localhost:8080/"
        },
        "id": "5DYmStaG-O6Q",
        "outputId": "bb68e00f-c76c-488d-9833-cbf61d5964a0"
      },
      "source": [
        "conta_do_gui = contaSalario(17)\n",
        "conta_do_gui.deposita(500)\n",
        "\n",
        "conta_da_dani = contaSalario(3)\n",
        "conta_da_dani.deposita(1000)\n",
        "\n",
        "conta_do_paulo = contaSalario(133)\n",
        "conta_do_paulo.deposita(500)\n",
        "\n",
        "contas = [conta_da_dani, conta_do_paulo, conta_do_gui]\n",
        "sorted(contas)"
      ],
      "execution_count": 23,
      "outputs": [
        {
          "output_type": "execute_result",
          "data": {
            "text/plain": [
              "[<__main__.contaSalario at 0x7ff1a0766210>,\n",
              " <__main__.contaSalario at 0x7ff1a0766910>,\n",
              " <__main__.contaSalario at 0x7ff1a07664d0>]"
            ]
          },
          "metadata": {
            "tags": []
          },
          "execution_count": 23
        }
      ]
    },
    {
      "cell_type": "code",
      "metadata": {
        "colab": {
          "base_uri": "https://localhost:8080/"
        },
        "id": "_wEPT91u-tYG",
        "outputId": "79fc6e8d-4c2f-4013-c340-fa7a3542330c"
      },
      "source": [
        "def extrai_saldo(conta):\n",
        "  return conta._saldo\n",
        "\n",
        "for conta in sorted(contas, key=extrai_saldo):\n",
        "  print(conta)"
      ],
      "execution_count": null,
      "outputs": [
        {
          "output_type": "stream",
          "text": [
            "[>> Codigo 17 Saldo 500<<]\n",
            "[>> Codigo 133 Saldo 510<<]\n",
            "[>> Codigo 3 Saldo 1000<<]\n"
          ],
          "name": "stdout"
        }
      ]
    },
    {
      "cell_type": "code",
      "metadata": {
        "colab": {
          "base_uri": "https://localhost:8080/"
        },
        "id": "5TMUEr4x_2IB",
        "outputId": "8bfcbd44-d441-41e1-ddba-bbbef21fc557"
      },
      "source": [
        "from operator import attrgetter\n",
        "\n",
        "for conta in sorted(contas, key = attrgetter(\"_codigo\",\"_saldo\")):\n",
        "  print(conta)"
      ],
      "execution_count": 16,
      "outputs": [
        {
          "output_type": "stream",
          "text": [
            "[>> Codigo 3 Saldo 1000<<]\n",
            "[>> Codigo 17 Saldo 500<<]\n",
            "[>> Codigo 133 Saldo 500<<]\n"
          ],
          "name": "stdout"
        }
      ]
    },
    {
      "cell_type": "code",
      "metadata": {
        "colab": {
          "base_uri": "https://localhost:8080/"
        },
        "id": "odADYBHGdWrr",
        "outputId": "2890f777-e24e-4a7c-a029-e7f77a3786d3"
      },
      "source": [
        "conta_do_gui < conta_da_dani"
      ],
      "execution_count": 11,
      "outputs": [
        {
          "output_type": "execute_result",
          "data": {
            "text/plain": [
              "True"
            ]
          },
          "metadata": {
            "tags": []
          },
          "execution_count": 11
        }
      ]
    },
    {
      "cell_type": "code",
      "metadata": {
        "colab": {
          "base_uri": "https://localhost:8080/"
        },
        "id": "X_wJZZ8bdY3G",
        "outputId": "d94065e1-4612-4881-c69f-6eaa967d9ef9"
      },
      "source": [
        "from operator import attrgetter\n",
        "\n",
        "for conta in sorted(contas):\n",
        "  print(conta)"
      ],
      "execution_count": 17,
      "outputs": [
        {
          "output_type": "stream",
          "text": [
            "[>> Codigo 133 Saldo 500<<]\n",
            "[>> Codigo 17 Saldo 500<<]\n",
            "[>> Codigo 3 Saldo 1000<<]\n"
          ],
          "name": "stdout"
        }
      ]
    },
    {
      "cell_type": "code",
      "metadata": {
        "id": "B9fpv5e3lCj4"
      },
      "source": [
        "from functools import total_ordering\n",
        "\n",
        "@total_ordering\n",
        "class contaSalario:\n",
        "\n",
        "  def __init__(self, codigo):\n",
        "    self._codigo = codigo\n",
        "    self._saldo = 0\n",
        "  \n",
        "  def __eq__(self, outro):\n",
        "    if type(outro) != contaSalario:\n",
        "      return False\n",
        "\n",
        "    return self._codigo == outro._codigo and self._saldo == outro._saldo\n",
        "\n",
        "  def deposita(self, valor):\n",
        "    self._saldo += valor\n",
        "  \n",
        "  def __str__(self):\n",
        "    return \"[>> Codigo {} Saldo {}<<]\".format(self._codigo, self._saldo)\n",
        "\n",
        "  def __lt__(self, outro):\n",
        "    if self._saldo != outro._saldo:\n",
        "      return self._saldo < outro._saldo\n",
        "    \n",
        "    return self._codigo < outro._codigo\n",
        "  \n",
        "class contaMultiploSalario(contaSalario):\n",
        "  pass"
      ],
      "execution_count": 22,
      "outputs": []
    },
    {
      "cell_type": "code",
      "metadata": {
        "colab": {
          "base_uri": "https://localhost:8080/"
        },
        "id": "jJy_jtIOmFXG",
        "outputId": "146a05fb-5844-4107-8be6-0d46203ecd37"
      },
      "source": [
        "conta_da_dani <= conta_do_gui"
      ],
      "execution_count": 24,
      "outputs": [
        {
          "output_type": "execute_result",
          "data": {
            "text/plain": [
              "False"
            ]
          },
          "metadata": {
            "tags": []
          },
          "execution_count": 24
        }
      ]
    },
    {
      "cell_type": "code",
      "metadata": {
        "id": "OzKCwa-VmIvz"
      },
      "source": [
        ""
      ],
      "execution_count": null,
      "outputs": []
    }
  ]
}